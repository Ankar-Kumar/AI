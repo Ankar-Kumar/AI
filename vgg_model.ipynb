{
  "cells": [
    {
      "cell_type": "markdown",
      "metadata": {
        "id": "HPBGl56iLGpm"
      },
      "source": [
        "## roll: 1910776109"
      ]
    },
    {
      "cell_type": "code",
      "execution_count": 1,
      "metadata": {
        "id": "FMP5lvFbl60e"
      },
      "outputs": [],
      "source": [
        "from tensorflow.keras.layers import Input, Dense, Activation, Conv2D, Flatten, MaxPooling2D\n",
        "from tensorflow.keras import Model\n",
        "from tensorflow.keras.utils import to_categorical, plot_model\n",
        "from tensorflow.keras.applications import vgg16,MobileNet"
      ]
    },
    {
      "cell_type": "markdown",
      "metadata": {
        "id": "UZ2-baSll_6A"
      },
      "source": [
        "model VGG16"
      ]
    },
    {
      "cell_type": "code",
      "execution_count": 2,
      "metadata": {
        "colab": {
          "base_uri": "https://localhost:8080/"
        },
        "id": "V0HDDTCkl-x3",
        "outputId": "5a81d132-dbf7-4e87-e2b3-62853b201ef4"
      },
      "outputs": [
        {
          "name": "stdout",
          "output_type": "stream",
          "text": [
            "Model: \"vgg16\"\n",
            "_________________________________________________________________\n",
            " Layer (type)                Output Shape              Param #   \n",
            "=================================================================\n",
            " input_1 (InputLayer)        [(None, 224, 224, 3)]     0         \n",
            "                                                                 \n",
            " block1_conv1 (Conv2D)       (None, 224, 224, 64)      1792      \n",
            "                                                                 \n",
            " block1_conv2 (Conv2D)       (None, 224, 224, 64)      36928     \n",
            "                                                                 \n",
            " block1_pool (MaxPooling2D)  (None, 112, 112, 64)      0         \n",
            "                                                                 \n",
            " block2_conv1 (Conv2D)       (None, 112, 112, 128)     73856     \n",
            "                                                                 \n",
            " block2_conv2 (Conv2D)       (None, 112, 112, 128)     147584    \n",
            "                                                                 \n",
            " block2_pool (MaxPooling2D)  (None, 56, 56, 128)       0         \n",
            "                                                                 \n",
            " block3_conv1 (Conv2D)       (None, 56, 56, 256)       295168    \n",
            "                                                                 \n",
            " block3_conv2 (Conv2D)       (None, 56, 56, 256)       590080    \n",
            "                                                                 \n",
            " block3_conv3 (Conv2D)       (None, 56, 56, 256)       590080    \n",
            "                                                                 \n",
            " block3_pool (MaxPooling2D)  (None, 28, 28, 256)       0         \n",
            "                                                                 \n",
            " block4_conv1 (Conv2D)       (None, 28, 28, 512)       1180160   \n",
            "                                                                 \n",
            " block4_conv2 (Conv2D)       (None, 28, 28, 512)       2359808   \n",
            "                                                                 \n",
            " block4_conv3 (Conv2D)       (None, 28, 28, 512)       2359808   \n",
            "                                                                 \n",
            " block4_pool (MaxPooling2D)  (None, 14, 14, 512)       0         \n",
            "                                                                 \n",
            " block5_conv1 (Conv2D)       (None, 14, 14, 512)       2359808   \n",
            "                                                                 \n",
            " block5_conv2 (Conv2D)       (None, 14, 14, 512)       2359808   \n",
            "                                                                 \n",
            " block5_conv3 (Conv2D)       (None, 14, 14, 512)       2359808   \n",
            "                                                                 \n",
            " block5_pool (MaxPooling2D)  (None, 7, 7, 512)         0         \n",
            "                                                                 \n",
            " flatten (Flatten)           (None, 25088)             0         \n",
            "                                                                 \n",
            " fc1 (Dense)                 (None, 4096)              102764544 \n",
            "                                                                 \n",
            " fc2 (Dense)                 (None, 4096)              16781312  \n",
            "                                                                 \n",
            " predictions (Dense)         (None, 1000)              4097000   \n",
            "                                                                 \n",
            "=================================================================\n",
            "Total params: 138357544 (527.79 MB)\n",
            "Trainable params: 138357544 (527.79 MB)\n",
            "Non-trainable params: 0 (0.00 Byte)\n",
            "_________________________________________________________________\n"
          ]
        }
      ],
      "source": [
        "model_vgg16=vgg16.VGG16()\n",
        "model_vgg16.summary()"
      ]
    },
    {
      "cell_type": "code",
      "execution_count": 3,
      "metadata": {},
      "outputs": [
        {
          "name": "stdout",
          "output_type": "stream",
          "text": [
            "You must install pydot (`pip install pydot`) and install graphviz (see instructions at https://graphviz.gitlab.io/download/) for plot_model to work.\n"
          ]
        }
      ],
      "source": [
        "from keras.utils import plot_model\n",
        "plot_model(model_vgg16)"
      ]
    },
    {
      "cell_type": "code",
      "execution_count": 4,
      "metadata": {},
      "outputs": [
        {
          "name": "stdout",
          "output_type": "stream",
          "text": [
            "Collecting pydot\n",
            "  Downloading pydot-2.0.0-py3-none-any.whl.metadata (9.6 kB)\n",
            "Requirement already satisfied: pyparsing>=3 in c:\\users\\hp\\appdata\\local\\programs\\python\\python310\\lib\\site-packages (from pydot) (3.0.9)\n",
            "Downloading pydot-2.0.0-py3-none-any.whl (22 kB)\n",
            "Installing collected packages: pydot\n",
            "Successfully installed pydot-2.0.0\n"
          ]
        },
        {
          "name": "stderr",
          "output_type": "stream",
          "text": [
            "WARNING: Ignoring invalid distribution -treamlit (c:\\users\\hp\\appdata\\local\\programs\\python\\python310\\lib\\site-packages)\n",
            "WARNING: Ignoring invalid distribution -treamlit (c:\\users\\hp\\appdata\\local\\programs\\python\\python310\\lib\\site-packages)\n",
            "\n",
            "[notice] A new release of pip is available: 23.3.2 -> 24.0\n",
            "[notice] To update, run: python.exe -m pip install --upgrade pip\n"
          ]
        }
      ],
      "source": [
        "!pip install pydot\n"
      ]
    },
    {
      "cell_type": "markdown",
      "metadata": {
        "id": "tRSKCaJ9mZ3N"
      },
      "source": [
        "MY custom model same As VGG16"
      ]
    },
    {
      "cell_type": "code",
      "execution_count": null,
      "metadata": {
        "colab": {
          "base_uri": "https://localhost:8080/"
        },
        "id": "lMJabNFvmYu7",
        "outputId": "faad21ad-f57f-4fe6-81f6-5780a50da367"
      },
      "outputs": [
        {
          "name": "stdout",
          "output_type": "stream",
          "text": [
            "Model: \"Builed_VGG\"\n",
            "_________________________________________________________________\n",
            " Layer (type)                Output Shape              Param #   \n",
            "=================================================================\n",
            " input_8 (InputLayer)        [(None, 224, 224, 3)]     0         \n",
            "                                                                 \n",
            " conv2d_71 (Conv2D)          (None, 224, 224, 64)      1792      \n",
            "                                                                 \n",
            " conv2d_72 (Conv2D)          (None, 224, 224, 64)      36928     \n",
            "                                                                 \n",
            " max_pooling2d_27 (MaxPooli  (None, 112, 112, 64)      0         \n",
            " ng2D)                                                           \n",
            "                                                                 \n",
            " conv2d_73 (Conv2D)          (None, 112, 112, 128)     73856     \n",
            "                                                                 \n",
            " conv2d_74 (Conv2D)          (None, 112, 112, 128)     147584    \n",
            "                                                                 \n",
            " max_pooling2d_28 (MaxPooli  (None, 56, 56, 128)       0         \n",
            " ng2D)                                                           \n",
            "                                                                 \n",
            " conv2d_75 (Conv2D)          (None, 56, 56, 256)       295168    \n",
            "                                                                 \n",
            " conv2d_76 (Conv2D)          (None, 56, 56, 256)       590080    \n",
            "                                                                 \n",
            " conv2d_77 (Conv2D)          (None, 56, 56, 256)       590080    \n",
            "                                                                 \n",
            " max_pooling2d_29 (MaxPooli  (None, 28, 28, 256)       0         \n",
            " ng2D)                                                           \n",
            "                                                                 \n",
            " conv2d_78 (Conv2D)          (None, 28, 28, 512)       1180160   \n",
            "                                                                 \n",
            " conv2d_79 (Conv2D)          (None, 28, 28, 512)       2359808   \n",
            "                                                                 \n",
            " conv2d_80 (Conv2D)          (None, 28, 28, 512)       2359808   \n",
            "                                                                 \n",
            " max_pooling2d_30 (MaxPooli  (None, 14, 14, 512)       0         \n",
            " ng2D)                                                           \n",
            "                                                                 \n",
            " conv2d_81 (Conv2D)          (None, 14, 14, 512)       2359808   \n",
            "                                                                 \n",
            " conv2d_82 (Conv2D)          (None, 14, 14, 512)       2359808   \n",
            "                                                                 \n",
            " conv2d_83 (Conv2D)          (None, 14, 14, 512)       2359808   \n",
            "                                                                 \n",
            " max_pooling2d_31 (MaxPooli  (None, 7, 7, 512)         0         \n",
            " ng2D)                                                           \n",
            "                                                                 \n",
            " flatten_5 (Flatten)         (None, 25088)             0         \n",
            "                                                                 \n",
            " dense_15 (Dense)            (None, 4096)              102764544 \n",
            "                                                                 \n",
            " dense_16 (Dense)            (None, 4096)              16781312  \n",
            "                                                                 \n",
            " dense_17 (Dense)            (None, 1000)              4097000   \n",
            "                                                                 \n",
            "=================================================================\n",
            "Total params: 138357544 (527.79 MB)\n",
            "Trainable params: 138357544 (527.79 MB)\n",
            "Non-trainable params: 0 (0.00 Byte)\n",
            "_________________________________________________________________\n"
          ]
        }
      ],
      "source": [
        "inputs  = Input((224,224,3))\n",
        "x = Conv2D(filters=64,kernel_size=(3,3),padding=\"same\",activation='relu')(inputs)\n",
        "x = Conv2D(filters=64,kernel_size=(3,3),padding=\"same\",activation='relu')(x)\n",
        "x = MaxPooling2D()(x)\n",
        "x = Conv2D(filters=128,kernel_size=(3,3),padding=\"same\",activation='relu')(x)\n",
        "x = Conv2D(filters=128,kernel_size=(3,3),padding=\"same\",activation='relu')(x)\n",
        "x = MaxPooling2D()(x)\n",
        "x = Conv2D(filters=256,kernel_size=(3,3),padding=\"same\",activation='relu')(x)\n",
        "x = Conv2D(filters=256,kernel_size=(3,3),padding=\"same\",activation='relu')(x)\n",
        "x = Conv2D(filters=256,kernel_size=(3,3),padding=\"same\",activation='relu')(x)\n",
        "x = MaxPooling2D()(x)\n",
        "x = Conv2D(filters=512,kernel_size=(3,3),padding=\"same\",activation='relu')(x)\n",
        "x = Conv2D(filters=512,kernel_size=(3,3),padding=\"same\",activation='relu')(x)\n",
        "x = Conv2D(filters=512,kernel_size=(3,3),padding=\"same\",activation='relu')(x)\n",
        "x = MaxPooling2D()(x)\n",
        "x = Conv2D(filters=512,kernel_size=(3,3),padding=\"same\",activation='relu')(x)\n",
        "x = Conv2D(filters=512,kernel_size=(3,3),padding=\"same\",activation='relu')(x)\n",
        "x = Conv2D(filters=512,kernel_size=(3,3),padding=\"same\",activation='relu')(x)\n",
        "x = MaxPooling2D()(x)\n",
        "x = Flatten()(x)\n",
        "x = Dense(4096,activation='relu')(x)\n",
        "x = Dense(4096,activation='relu')(x)\n",
        "outputs = Dense(1000,activation=\"sigmoid\")(x)\n",
        "model_same_vgg16= Model(inputs,outputs,name = \"Builed_VGG\")\n",
        "model_same_vgg16.summary()"
      ]
    },
    {
      "cell_type": "markdown",
      "metadata": {
        "id": "7Y4SVU_Fna-K"
      },
      "source": [
        "##custom model"
      ]
    },
    {
      "cell_type": "code",
      "execution_count": null,
      "metadata": {
        "colab": {
          "base_uri": "https://localhost:8080/"
        },
        "id": "27e8F27hnf6d",
        "outputId": "7b43be82-6161-4f12-f87a-288aee111cb6"
      },
      "outputs": [
        {
          "name": "stdout",
          "output_type": "stream",
          "text": [
            "Model: \"Built_VGG\"\n",
            "_________________________________________________________________\n",
            " Layer (type)                Output Shape              Param #   \n",
            "=================================================================\n",
            " input_19 (InputLayer)       [(None, 224, 224, 3)]     0         \n",
            "                                                                 \n",
            " conv2d_228 (Conv2D)         (None, 224, 224, 32)      896       \n",
            "                                                                 \n",
            " conv2d_229 (Conv2D)         (None, 224, 224, 32)      9248      \n",
            "                                                                 \n",
            " conv2d_230 (Conv2D)         (None, 224, 224, 64)      18496     \n",
            "                                                                 \n",
            " conv2d_231 (Conv2D)         (None, 224, 224, 64)      36928     \n",
            "                                                                 \n",
            " conv2d_232 (Conv2D)         (None, 224, 224, 128)     73856     \n",
            "                                                                 \n",
            " conv2d_233 (Conv2D)         (None, 224, 224, 128)     147584    \n",
            "                                                                 \n",
            " conv2d_234 (Conv2D)         (None, 224, 224, 128)     147584    \n",
            "                                                                 \n",
            " max_pooling2d_82 (MaxPooli  (None, 112, 112, 128)     0         \n",
            " ng2D)                                                           \n",
            "                                                                 \n",
            " conv2d_235 (Conv2D)         (None, 112, 112, 256)     295168    \n",
            "                                                                 \n",
            " conv2d_236 (Conv2D)         (None, 112, 112, 256)     590080    \n",
            "                                                                 \n",
            " conv2d_237 (Conv2D)         (None, 112, 112, 256)     590080    \n",
            "                                                                 \n",
            " max_pooling2d_83 (MaxPooli  (None, 56, 56, 256)       0         \n",
            " ng2D)                                                           \n",
            "                                                                 \n",
            " conv2d_238 (Conv2D)         (None, 56, 56, 512)       1180160   \n",
            "                                                                 \n",
            " conv2d_239 (Conv2D)         (None, 56, 56, 512)       2359808   \n",
            "                                                                 \n",
            " conv2d_240 (Conv2D)         (None, 56, 56, 512)       2359808   \n",
            "                                                                 \n",
            " max_pooling2d_84 (MaxPooli  (None, 28, 28, 512)       0         \n",
            " ng2D)                                                           \n",
            "                                                                 \n",
            " conv2d_241 (Conv2D)         (None, 28, 28, 512)       2359808   \n",
            "                                                                 \n",
            " conv2d_242 (Conv2D)         (None, 28, 28, 512)       2359808   \n",
            "                                                                 \n",
            " conv2d_243 (Conv2D)         (None, 28, 28, 512)       2359808   \n",
            "                                                                 \n",
            " max_pooling2d_85 (MaxPooli  (None, 14, 14, 512)       0         \n",
            " ng2D)                                                           \n",
            "                                                                 \n",
            " flatten_15 (Flatten)        (None, 100352)            0         \n",
            "                                                                 \n",
            " dense_45 (Dense)            (None, 2048)              205522944 \n",
            "                                                                 \n",
            " dense_46 (Dense)            (None, 2048)              4196352   \n",
            "                                                                 \n",
            " dense_47 (Dense)            (None, 1000)              2049000   \n",
            "                                                                 \n",
            "=================================================================\n",
            "Total params: 226657416 (864.63 MB)\n",
            "Trainable params: 226657416 (864.63 MB)\n",
            "Non-trainable params: 0 (0.00 Byte)\n",
            "_________________________________________________________________\n"
          ]
        }
      ],
      "source": [
        "# Assuming you have loaded the pre-trained weight\n",
        "inputs = Input((224, 224, 3))\n",
        "x = Conv2D(filters=32, kernel_size=(3, 3), padding=\"same\", activation='relu')(inputs)\n",
        "x = Conv2D(filters=32, kernel_size=(3, 3), padding=\"same\", activation='relu')(x)\n",
        "# x = MaxPooling2D()(x)\n",
        "x = Conv2D(filters=64, kernel_size=(3, 3), padding=\"same\", activation='relu')(x)\n",
        "x = Conv2D(filters=64, kernel_size=(3, 3), padding=\"same\", activation='relu')(x)\n",
        "# x = MaxPooling2D()(x)\n",
        "x = Conv2D(filters=128, kernel_size=(3, 3), padding=\"same\", activation='relu')(x)\n",
        "x = Conv2D(filters=128, kernel_size=(3, 3), padding=\"same\", activation='relu')(x)\n",
        "x = Conv2D(filters=128, kernel_size=(3, 3), padding=\"same\", activation='relu')(x)\n",
        "# x = MaxPooling2D()(x)\n",
        "x = Conv2D(filters=256, kernel_size=(3, 3), padding=\"same\", activation='relu')(x)\n",
        "x = Conv2D(filters=256, kernel_size=(3, 3), padding=\"same\", activation='relu')(x)\n",
        "x = Conv2D(filters=256, kernel_size=(3, 3), padding=\"same\", activation='relu')(x)\n",
        "# x = MaxPooling2D()(x)\n",
        "x = Conv2D(filters=512, kernel_size=(3, 3), padding=\"same\", activation='relu')(x)\n",
        "x = Conv2D(filters=512, kernel_size=(3, 3), padding=\"same\", activation='relu')(x)\n",
        "x = Conv2D(filters=512, kernel_size=(3, 3), padding=\"same\", activation='relu')(x)\n",
        "# x = MaxPooling2D()(x)\n",
        "x = Conv2D(filters=512, kernel_size=(3, 3), padding=\"same\", activation='relu')(x)\n",
        "x = Conv2D(filters=512, kernel_size=(3, 3), padding=\"same\", activation='relu')(x)\n",
        "x = Conv2D(filters=512, kernel_size=(3, 3), padding=\"same\", activation='relu')(x)\n",
        "# x = MaxPooling2D()(x)\n",
        "x = Flatten()(x)\n",
        "x = Dense(2048, activation='relu')(x)\n",
        "x = Dense(2048, activation='relu')(x)\n",
        "outputs = Dense(1000, activation=\"softmax\")(x)  # Changed to softmax for classification\n",
        "model_custom = Model(inputs, outputs, name=\"Built_VGG\")\n",
        "\n",
        "\n",
        "model_custom.summary()\n"
      ]
    },
    {
      "cell_type": "code",
      "execution_count": null,
      "metadata": {
        "colab": {
          "base_uri": "https://localhost:8080/"
        },
        "id": "71qN2h87zFxE",
        "outputId": "c3a685c8-088f-43be-e773-fb55d5570470"
      },
      "outputs": [
        {
          "name": "stdout",
          "output_type": "stream",
          "text": [
            "23\n"
          ]
        }
      ],
      "source": [
        "print(len(model_custom.layers))"
      ]
    },
    {
      "cell_type": "markdown",
      "metadata": {
        "id": "GlDgAcXUm1M2"
      },
      "source": [
        "## load weight into my new model"
      ]
    },
    {
      "cell_type": "code",
      "execution_count": null,
      "metadata": {
        "colab": {
          "base_uri": "https://localhost:8080/"
        },
        "id": "MioF8hVSmTlP",
        "outputId": "e449b4c7-0220-4d40-f14f-5a79a5a09b58"
      },
      "outputs": [
        {
          "name": "stdout",
          "output_type": "stream",
          "text": [
            "25\n",
            "copy the vgg16 model weight to the custom model \n",
            "layer 1 weight is not load to my model\n",
            "layer 2 weight is not load to my model\n",
            "layer 18 weight is not load to my model\n",
            "layer 19 weight is not load to my model\n",
            "layer 20 weight is not load to my model\n",
            "layer 21 weight is not load to my model\n",
            "layer 22 weight is not load to my model\n",
            "layer 23 weight is not load to my model\n",
            "layer 24 weight is not load to my model\n"
          ]
        }
      ],
      "source": [
        "vgg_weight=model_vgg16\n",
        "custome_vgg=model_same_vgg16\n",
        "\n",
        "custom_model=model_custom\n",
        "# print(len(vgg_weight.layers))\n",
        "# print(len(custome_vgg.layers))\n",
        "print(len(custom_model.layers))\n",
        "for i in range(len(custome_vgg.layers)):\n",
        "  custome_vgg.layers[i].set_weights(vgg_weight.layers[i].get_weights())\n",
        "\n",
        "\n",
        "print(\"copy the vgg16 model weight to the custom model \")\n",
        "for i in range(len(model_custom.layers)):\n",
        "  try:\n",
        "    custom_model.layers[i+4].set_weights(vgg_weight.layers[i+2].get_weights())\n",
        "  except:\n",
        "     print(f\"layer {i } weight is not load to my model\")\n",
        "\n",
        "# model_custom.layers[23].set_weights(vgg_weight.layers[21].get_weights())\n",
        "\n",
        "\n",
        "\n"
      ]
    },
    {
      "cell_type": "markdown",
      "metadata": {
        "id": "ydXdPvfHoUcA"
      },
      "source": [
        "# saw both of the model weight"
      ]
    },
    {
      "cell_type": "code",
      "execution_count": null,
      "metadata": {
        "id": "KGxwi2hnnSwK"
      },
      "outputs": [],
      "source": [
        "print(\"Weights of VGG16 model:\")\n",
        "k=0\n",
        "for i, layer in enumerate(model_vgg16.layers):\n",
        "    print(f\"Layer {i}: {layer.get_weights()}\")\n",
        "    k+=1\n",
        "    if k==2:\n",
        "      break\n",
        "\n",
        "k=0\n",
        "print(\"Weights of Custom VGG16 model:\")\n",
        "for i, layer in enumerate(model_same_vgg16.layers):\n",
        "    print(f\"Layer {i}: {layer.get_weights()}\")\n",
        "    k+=1\n",
        "    if k==2:\n",
        "      break\n",
        "\n",
        "print(\"Weights of Custom  model:\")\n",
        "for i, layer in enumerate(model_same_vgg16.layers):\n",
        "    print(f\"Layer {i}: {layer.get_weights()}\")\n",
        "    k+=1\n",
        "    if k==2:\n",
        "      break"
      ]
    },
    {
      "cell_type": "markdown",
      "metadata": {
        "id": "dQjuIOGlJHkG"
      },
      "source": [
        "## process data"
      ]
    },
    {
      "cell_type": "code",
      "execution_count": null,
      "metadata": {
        "id": "kY0PoxgBvqvl"
      },
      "outputs": [],
      "source": [
        "## load dataset\n",
        "\n"
      ]
    },
    {
      "cell_type": "markdown",
      "metadata": {},
      "source": [
        "##purpose of code testing"
      ]
    },
    {
      "cell_type": "code",
      "execution_count": 5,
      "metadata": {},
      "outputs": [
        {
          "name": "stdout",
          "output_type": "stream",
          "text": [
            "1/1 [==============================] - 4s 4s/step\n",
            "Predicted: [('n04116512', 'rubber_eraser', 0.9203558), ('n03666591', 'lighter', 0.03390658), ('n02786058', 'Band_Aid', 0.007916261)]\n"
          ]
        }
      ],
      "source": [
        "import keras\n",
        "from keras.applications.resnet50 import ResNet50\n",
        "from keras.applications.resnet50 import preprocess_input, decode_predictions\n",
        "import numpy as np\n",
        "\n",
        "\n",
        "model = ResNet50(weights='imagenet')\n",
        "img_path = 'rub1.jpeg'\n",
        "img = keras.utils.load_img(img_path, target_size=(224, 224))\n",
        "x = keras.utils.img_to_array(img)\n",
        "x = np.expand_dims(x, axis=0)\n",
        "x = preprocess_input(x) #By using preprocess_input(), you ensure that the input data provided to the pre-trained model matches the pre-processing steps used during training. This helps maintain compatibility between the input data and the model's expectations.\n",
        "preds = model.predict(x)\n",
        "# decode the results into a list of tuples (class, description, probability)\n",
        "# (one such list for each sample in the batch)\n",
        "print('Predicted:', decode_predictions(preds, top=3)[0])"
      ]
    },
    {
      "cell_type": "code",
      "execution_count": null,
      "metadata": {},
      "outputs": [],
      "source": []
    }
  ],
  "metadata": {
    "colab": {
      "provenance": []
    },
    "kernelspec": {
      "display_name": "Python 3",
      "name": "python3"
    },
    "language_info": {
      "codemirror_mode": {
        "name": "ipython",
        "version": 3
      },
      "file_extension": ".py",
      "mimetype": "text/x-python",
      "name": "python",
      "nbconvert_exporter": "python",
      "pygments_lexer": "ipython3",
      "version": "3.10.4"
    }
  },
  "nbformat": 4,
  "nbformat_minor": 0
}
