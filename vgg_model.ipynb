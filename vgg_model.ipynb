{
  "cells": [
    {
      "cell_type": "markdown",
      "metadata": {
        "id": "HPBGl56iLGpm"
      },
      "source": [
        "## roll: 1910776109"
      ]
    },
    {
      "cell_type": "code",
      "execution_count": 8,
      "metadata": {
        "id": "FMP5lvFbl60e"
      },
      "outputs": [],
      "source": [
        "from tensorflow.keras.layers import Input, Dense, Activation, Conv2D, Flatten, MaxPooling2D\n",
        "from tensorflow.keras import Model\n",
        "from tensorflow.keras.utils import to_categorical, plot_model\n",
        "from tensorflow.keras.applications import vgg16,MobileNet"
      ]
    },
    {
      "cell_type": "markdown",
      "metadata": {
        "id": "UZ2-baSll_6A"
      },
      "source": [
        "model VGG16"
      ]
    },
    {
      "cell_type": "code",
      "execution_count": 9,
      "metadata": {
        "colab": {
          "base_uri": "https://localhost:8080/"
        },
        "id": "V0HDDTCkl-x3",
        "outputId": "5a81d132-dbf7-4e87-e2b3-62853b201ef4"
      },
      "outputs": [
        {
          "name": "stdout",
          "output_type": "stream",
          "text": [
            "Downloading data from https://storage.googleapis.com/tensorflow/keras-applications/mobilenet/mobilenet_1_0_224_tf.h5\n",
            "17225924/17225924 [==============================] - 26s 1us/step\n",
            "Model: \"mobilenet_1.00_224\"\n",
            "_________________________________________________________________\n",
            " Layer (type)                Output Shape              Param #   \n",
            "=================================================================\n",
            " input_3 (InputLayer)        [(None, 224, 224, 3)]     0         \n",
            "                                                                 \n",
            " conv1 (Conv2D)              (None, 112, 112, 32)      864       \n",
            "                                                                 \n",
            " conv1_bn (BatchNormalizati  (None, 112, 112, 32)      128       \n",
            " on)                                                             \n",
            "                                                                 \n",
            " conv1_relu (ReLU)           (None, 112, 112, 32)      0         \n",
            "                                                                 \n",
            " conv_dw_1 (DepthwiseConv2D  (None, 112, 112, 32)      288       \n",
            " )                                                               \n",
            "                                                                 \n",
            " conv_dw_1_bn (BatchNormali  (None, 112, 112, 32)      128       \n",
            " zation)                                                         \n",
            "                                                                 \n",
            " conv_dw_1_relu (ReLU)       (None, 112, 112, 32)      0         \n",
            "                                                                 \n",
            " conv_pw_1 (Conv2D)          (None, 112, 112, 64)      2048      \n",
            "                                                                 \n",
            " conv_pw_1_bn (BatchNormali  (None, 112, 112, 64)      256       \n",
            " zation)                                                         \n",
            "                                                                 \n",
            " conv_pw_1_relu (ReLU)       (None, 112, 112, 64)      0         \n",
            "                                                                 \n",
            " conv_pad_2 (ZeroPadding2D)  (None, 113, 113, 64)      0         \n",
            "                                                                 \n",
            " conv_dw_2 (DepthwiseConv2D  (None, 56, 56, 64)        576       \n",
            " )                                                               \n",
            "                                                                 \n",
            " conv_dw_2_bn (BatchNormali  (None, 56, 56, 64)        256       \n",
            " zation)                                                         \n",
            "                                                                 \n",
            " conv_dw_2_relu (ReLU)       (None, 56, 56, 64)        0         \n",
            "                                                                 \n",
            " conv_pw_2 (Conv2D)          (None, 56, 56, 128)       8192      \n",
            "                                                                 \n",
            " conv_pw_2_bn (BatchNormali  (None, 56, 56, 128)       512       \n",
            " zation)                                                         \n",
            "                                                                 \n",
            " conv_pw_2_relu (ReLU)       (None, 56, 56, 128)       0         \n",
            "                                                                 \n",
            " conv_dw_3 (DepthwiseConv2D  (None, 56, 56, 128)       1152      \n",
            " )                                                               \n",
            "                                                                 \n",
            " conv_dw_3_bn (BatchNormali  (None, 56, 56, 128)       512       \n",
            " zation)                                                         \n",
            "                                                                 \n",
            " conv_dw_3_relu (ReLU)       (None, 56, 56, 128)       0         \n",
            "                                                                 \n",
            " conv_pw_3 (Conv2D)          (None, 56, 56, 128)       16384     \n",
            "                                                                 \n",
            " conv_pw_3_bn (BatchNormali  (None, 56, 56, 128)       512       \n",
            " zation)                                                         \n",
            "                                                                 \n",
            " conv_pw_3_relu (ReLU)       (None, 56, 56, 128)       0         \n",
            "                                                                 \n",
            " conv_pad_4 (ZeroPadding2D)  (None, 57, 57, 128)       0         \n",
            "                                                                 \n",
            " conv_dw_4 (DepthwiseConv2D  (None, 28, 28, 128)       1152      \n",
            " )                                                               \n",
            "                                                                 \n",
            " conv_dw_4_bn (BatchNormali  (None, 28, 28, 128)       512       \n",
            " zation)                                                         \n",
            "                                                                 \n",
            " conv_dw_4_relu (ReLU)       (None, 28, 28, 128)       0         \n",
            "                                                                 \n",
            " conv_pw_4 (Conv2D)          (None, 28, 28, 256)       32768     \n",
            "                                                                 \n",
            " conv_pw_4_bn (BatchNormali  (None, 28, 28, 256)       1024      \n",
            " zation)                                                         \n",
            "                                                                 \n",
            " conv_pw_4_relu (ReLU)       (None, 28, 28, 256)       0         \n",
            "                                                                 \n",
            " conv_dw_5 (DepthwiseConv2D  (None, 28, 28, 256)       2304      \n",
            " )                                                               \n",
            "                                                                 \n",
            " conv_dw_5_bn (BatchNormali  (None, 28, 28, 256)       1024      \n",
            " zation)                                                         \n",
            "                                                                 \n",
            " conv_dw_5_relu (ReLU)       (None, 28, 28, 256)       0         \n",
            "                                                                 \n",
            " conv_pw_5 (Conv2D)          (None, 28, 28, 256)       65536     \n",
            "                                                                 \n",
            " conv_pw_5_bn (BatchNormali  (None, 28, 28, 256)       1024      \n",
            " zation)                                                         \n",
            "                                                                 \n",
            " conv_pw_5_relu (ReLU)       (None, 28, 28, 256)       0         \n",
            "                                                                 \n",
            " conv_pad_6 (ZeroPadding2D)  (None, 29, 29, 256)       0         \n",
            "                                                                 \n",
            " conv_dw_6 (DepthwiseConv2D  (None, 14, 14, 256)       2304      \n",
            " )                                                               \n",
            "                                                                 \n",
            " conv_dw_6_bn (BatchNormali  (None, 14, 14, 256)       1024      \n",
            " zation)                                                         \n",
            "                                                                 \n",
            " conv_dw_6_relu (ReLU)       (None, 14, 14, 256)       0         \n",
            "                                                                 \n",
            " conv_pw_6 (Conv2D)          (None, 14, 14, 512)       131072    \n",
            "                                                                 \n",
            " conv_pw_6_bn (BatchNormali  (None, 14, 14, 512)       2048      \n",
            " zation)                                                         \n",
            "                                                                 \n",
            " conv_pw_6_relu (ReLU)       (None, 14, 14, 512)       0         \n",
            "                                                                 \n",
            " conv_dw_7 (DepthwiseConv2D  (None, 14, 14, 512)       4608      \n",
            " )                                                               \n",
            "                                                                 \n",
            " conv_dw_7_bn (BatchNormali  (None, 14, 14, 512)       2048      \n",
            " zation)                                                         \n",
            "                                                                 \n",
            " conv_dw_7_relu (ReLU)       (None, 14, 14, 512)       0         \n",
            "                                                                 \n",
            " conv_pw_7 (Conv2D)          (None, 14, 14, 512)       262144    \n",
            "                                                                 \n",
            " conv_pw_7_bn (BatchNormali  (None, 14, 14, 512)       2048      \n",
            " zation)                                                         \n",
            "                                                                 \n",
            " conv_pw_7_relu (ReLU)       (None, 14, 14, 512)       0         \n",
            "                                                                 \n",
            " conv_dw_8 (DepthwiseConv2D  (None, 14, 14, 512)       4608      \n",
            " )                                                               \n",
            "                                                                 \n",
            " conv_dw_8_bn (BatchNormali  (None, 14, 14, 512)       2048      \n",
            " zation)                                                         \n",
            "                                                                 \n",
            " conv_dw_8_relu (ReLU)       (None, 14, 14, 512)       0         \n",
            "                                                                 \n",
            " conv_pw_8 (Conv2D)          (None, 14, 14, 512)       262144    \n",
            "                                                                 \n",
            " conv_pw_8_bn (BatchNormali  (None, 14, 14, 512)       2048      \n",
            " zation)                                                         \n",
            "                                                                 \n",
            " conv_pw_8_relu (ReLU)       (None, 14, 14, 512)       0         \n",
            "                                                                 \n",
            " conv_dw_9 (DepthwiseConv2D  (None, 14, 14, 512)       4608      \n",
            " )                                                               \n",
            "                                                                 \n",
            " conv_dw_9_bn (BatchNormali  (None, 14, 14, 512)       2048      \n",
            " zation)                                                         \n",
            "                                                                 \n",
            " conv_dw_9_relu (ReLU)       (None, 14, 14, 512)       0         \n",
            "                                                                 \n",
            " conv_pw_9 (Conv2D)          (None, 14, 14, 512)       262144    \n",
            "                                                                 \n",
            " conv_pw_9_bn (BatchNormali  (None, 14, 14, 512)       2048      \n",
            " zation)                                                         \n",
            "                                                                 \n",
            " conv_pw_9_relu (ReLU)       (None, 14, 14, 512)       0         \n",
            "                                                                 \n",
            " conv_dw_10 (DepthwiseConv2  (None, 14, 14, 512)       4608      \n",
            " D)                                                              \n",
            "                                                                 \n",
            " conv_dw_10_bn (BatchNormal  (None, 14, 14, 512)       2048      \n",
            " ization)                                                        \n",
            "                                                                 \n",
            " conv_dw_10_relu (ReLU)      (None, 14, 14, 512)       0         \n",
            "                                                                 \n",
            " conv_pw_10 (Conv2D)         (None, 14, 14, 512)       262144    \n",
            "                                                                 \n",
            " conv_pw_10_bn (BatchNormal  (None, 14, 14, 512)       2048      \n",
            " ization)                                                        \n",
            "                                                                 \n",
            " conv_pw_10_relu (ReLU)      (None, 14, 14, 512)       0         \n",
            "                                                                 \n",
            " conv_dw_11 (DepthwiseConv2  (None, 14, 14, 512)       4608      \n",
            " D)                                                              \n",
            "                                                                 \n",
            " conv_dw_11_bn (BatchNormal  (None, 14, 14, 512)       2048      \n",
            " ization)                                                        \n",
            "                                                                 \n",
            " conv_dw_11_relu (ReLU)      (None, 14, 14, 512)       0         \n",
            "                                                                 \n",
            " conv_pw_11 (Conv2D)         (None, 14, 14, 512)       262144    \n",
            "                                                                 \n",
            " conv_pw_11_bn (BatchNormal  (None, 14, 14, 512)       2048      \n",
            " ization)                                                        \n",
            "                                                                 \n",
            " conv_pw_11_relu (ReLU)      (None, 14, 14, 512)       0         \n",
            "                                                                 \n",
            " conv_pad_12 (ZeroPadding2D  (None, 15, 15, 512)       0         \n",
            " )                                                               \n",
            "                                                                 \n",
            " conv_dw_12 (DepthwiseConv2  (None, 7, 7, 512)         4608      \n",
            " D)                                                              \n",
            "                                                                 \n",
            " conv_dw_12_bn (BatchNormal  (None, 7, 7, 512)         2048      \n",
            " ization)                                                        \n",
            "                                                                 \n",
            " conv_dw_12_relu (ReLU)      (None, 7, 7, 512)         0         \n",
            "                                                                 \n",
            " conv_pw_12 (Conv2D)         (None, 7, 7, 1024)        524288    \n",
            "                                                                 \n",
            " conv_pw_12_bn (BatchNormal  (None, 7, 7, 1024)        4096      \n",
            " ization)                                                        \n",
            "                                                                 \n",
            " conv_pw_12_relu (ReLU)      (None, 7, 7, 1024)        0         \n",
            "                                                                 \n",
            " conv_dw_13 (DepthwiseConv2  (None, 7, 7, 1024)        9216      \n",
            " D)                                                              \n",
            "                                                                 \n",
            " conv_dw_13_bn (BatchNormal  (None, 7, 7, 1024)        4096      \n",
            " ization)                                                        \n",
            "                                                                 \n",
            " conv_dw_13_relu (ReLU)      (None, 7, 7, 1024)        0         \n",
            "                                                                 \n",
            " conv_pw_13 (Conv2D)         (None, 7, 7, 1024)        1048576   \n",
            "                                                                 \n",
            " conv_pw_13_bn (BatchNormal  (None, 7, 7, 1024)        4096      \n",
            " ization)                                                        \n",
            "                                                                 \n",
            " conv_pw_13_relu (ReLU)      (None, 7, 7, 1024)        0         \n",
            "                                                                 \n",
            " global_average_pooling2d (  (None, 1, 1, 1024)        0         \n",
            " GlobalAveragePooling2D)                                         \n",
            "                                                                 \n",
            " dropout (Dropout)           (None, 1, 1, 1024)        0         \n",
            "                                                                 \n",
            " conv_preds (Conv2D)         (None, 1, 1, 1000)        1025000   \n",
            "                                                                 \n",
            " reshape_2 (Reshape)         (None, 1000)              0         \n",
            "                                                                 \n",
            " predictions (Activation)    (None, 1000)              0         \n",
            "                                                                 \n",
            "=================================================================\n",
            "Total params: 4253864 (16.23 MB)\n",
            "Trainable params: 4231976 (16.14 MB)\n",
            "Non-trainable params: 21888 (85.50 KB)\n",
            "_________________________________________________________________\n"
          ]
        }
      ],
      "source": [
        "model_vgg16=MobileNet()\n",
        "model_vgg16.summary()"
      ]
    },
    {
      "cell_type": "markdown",
      "metadata": {
        "id": "tRSKCaJ9mZ3N"
      },
      "source": [
        "MY custom model same As VGG16"
      ]
    },
    {
      "cell_type": "code",
      "execution_count": null,
      "metadata": {
        "colab": {
          "base_uri": "https://localhost:8080/"
        },
        "id": "lMJabNFvmYu7",
        "outputId": "faad21ad-f57f-4fe6-81f6-5780a50da367"
      },
      "outputs": [
        {
          "name": "stdout",
          "output_type": "stream",
          "text": [
            "Model: \"Builed_VGG\"\n",
            "_________________________________________________________________\n",
            " Layer (type)                Output Shape              Param #   \n",
            "=================================================================\n",
            " input_8 (InputLayer)        [(None, 224, 224, 3)]     0         \n",
            "                                                                 \n",
            " conv2d_71 (Conv2D)          (None, 224, 224, 64)      1792      \n",
            "                                                                 \n",
            " conv2d_72 (Conv2D)          (None, 224, 224, 64)      36928     \n",
            "                                                                 \n",
            " max_pooling2d_27 (MaxPooli  (None, 112, 112, 64)      0         \n",
            " ng2D)                                                           \n",
            "                                                                 \n",
            " conv2d_73 (Conv2D)          (None, 112, 112, 128)     73856     \n",
            "                                                                 \n",
            " conv2d_74 (Conv2D)          (None, 112, 112, 128)     147584    \n",
            "                                                                 \n",
            " max_pooling2d_28 (MaxPooli  (None, 56, 56, 128)       0         \n",
            " ng2D)                                                           \n",
            "                                                                 \n",
            " conv2d_75 (Conv2D)          (None, 56, 56, 256)       295168    \n",
            "                                                                 \n",
            " conv2d_76 (Conv2D)          (None, 56, 56, 256)       590080    \n",
            "                                                                 \n",
            " conv2d_77 (Conv2D)          (None, 56, 56, 256)       590080    \n",
            "                                                                 \n",
            " max_pooling2d_29 (MaxPooli  (None, 28, 28, 256)       0         \n",
            " ng2D)                                                           \n",
            "                                                                 \n",
            " conv2d_78 (Conv2D)          (None, 28, 28, 512)       1180160   \n",
            "                                                                 \n",
            " conv2d_79 (Conv2D)          (None, 28, 28, 512)       2359808   \n",
            "                                                                 \n",
            " conv2d_80 (Conv2D)          (None, 28, 28, 512)       2359808   \n",
            "                                                                 \n",
            " max_pooling2d_30 (MaxPooli  (None, 14, 14, 512)       0         \n",
            " ng2D)                                                           \n",
            "                                                                 \n",
            " conv2d_81 (Conv2D)          (None, 14, 14, 512)       2359808   \n",
            "                                                                 \n",
            " conv2d_82 (Conv2D)          (None, 14, 14, 512)       2359808   \n",
            "                                                                 \n",
            " conv2d_83 (Conv2D)          (None, 14, 14, 512)       2359808   \n",
            "                                                                 \n",
            " max_pooling2d_31 (MaxPooli  (None, 7, 7, 512)         0         \n",
            " ng2D)                                                           \n",
            "                                                                 \n",
            " flatten_5 (Flatten)         (None, 25088)             0         \n",
            "                                                                 \n",
            " dense_15 (Dense)            (None, 4096)              102764544 \n",
            "                                                                 \n",
            " dense_16 (Dense)            (None, 4096)              16781312  \n",
            "                                                                 \n",
            " dense_17 (Dense)            (None, 1000)              4097000   \n",
            "                                                                 \n",
            "=================================================================\n",
            "Total params: 138357544 (527.79 MB)\n",
            "Trainable params: 138357544 (527.79 MB)\n",
            "Non-trainable params: 0 (0.00 Byte)\n",
            "_________________________________________________________________\n"
          ]
        }
      ],
      "source": [
        "inputs  = Input((224,224,3))\n",
        "x = Conv2D(filters=64,kernel_size=(3,3),padding=\"same\",activation='relu')(inputs)\n",
        "x = Conv2D(filters=64,kernel_size=(3,3),padding=\"same\",activation='relu')(x)\n",
        "x = MaxPooling2D()(x)\n",
        "x = Conv2D(filters=128,kernel_size=(3,3),padding=\"same\",activation='relu')(x)\n",
        "x = Conv2D(filters=128,kernel_size=(3,3),padding=\"same\",activation='relu')(x)\n",
        "x = MaxPooling2D()(x)\n",
        "x = Conv2D(filters=256,kernel_size=(3,3),padding=\"same\",activation='relu')(x)\n",
        "x = Conv2D(filters=256,kernel_size=(3,3),padding=\"same\",activation='relu')(x)\n",
        "x = Conv2D(filters=256,kernel_size=(3,3),padding=\"same\",activation='relu')(x)\n",
        "x = MaxPooling2D()(x)\n",
        "x = Conv2D(filters=512,kernel_size=(3,3),padding=\"same\",activation='relu')(x)\n",
        "x = Conv2D(filters=512,kernel_size=(3,3),padding=\"same\",activation='relu')(x)\n",
        "x = Conv2D(filters=512,kernel_size=(3,3),padding=\"same\",activation='relu')(x)\n",
        "x = MaxPooling2D()(x)\n",
        "x = Conv2D(filters=512,kernel_size=(3,3),padding=\"same\",activation='relu')(x)\n",
        "x = Conv2D(filters=512,kernel_size=(3,3),padding=\"same\",activation='relu')(x)\n",
        "x = Conv2D(filters=512,kernel_size=(3,3),padding=\"same\",activation='relu')(x)\n",
        "x = MaxPooling2D()(x)\n",
        "x = Flatten()(x)\n",
        "x = Dense(4096,activation='relu')(x)\n",
        "x = Dense(4096,activation='relu')(x)\n",
        "outputs = Dense(1000,activation=\"sigmoid\")(x)\n",
        "model_same_vgg16= Model(inputs,outputs,name = \"Builed_VGG\")\n",
        "model_same_vgg16.summary()"
      ]
    },
    {
      "cell_type": "markdown",
      "metadata": {
        "id": "7Y4SVU_Fna-K"
      },
      "source": [
        "##custom model"
      ]
    },
    {
      "cell_type": "code",
      "execution_count": null,
      "metadata": {
        "colab": {
          "base_uri": "https://localhost:8080/"
        },
        "id": "27e8F27hnf6d",
        "outputId": "7b43be82-6161-4f12-f87a-288aee111cb6"
      },
      "outputs": [
        {
          "name": "stdout",
          "output_type": "stream",
          "text": [
            "Model: \"Built_VGG\"\n",
            "_________________________________________________________________\n",
            " Layer (type)                Output Shape              Param #   \n",
            "=================================================================\n",
            " input_19 (InputLayer)       [(None, 224, 224, 3)]     0         \n",
            "                                                                 \n",
            " conv2d_228 (Conv2D)         (None, 224, 224, 32)      896       \n",
            "                                                                 \n",
            " conv2d_229 (Conv2D)         (None, 224, 224, 32)      9248      \n",
            "                                                                 \n",
            " conv2d_230 (Conv2D)         (None, 224, 224, 64)      18496     \n",
            "                                                                 \n",
            " conv2d_231 (Conv2D)         (None, 224, 224, 64)      36928     \n",
            "                                                                 \n",
            " conv2d_232 (Conv2D)         (None, 224, 224, 128)     73856     \n",
            "                                                                 \n",
            " conv2d_233 (Conv2D)         (None, 224, 224, 128)     147584    \n",
            "                                                                 \n",
            " conv2d_234 (Conv2D)         (None, 224, 224, 128)     147584    \n",
            "                                                                 \n",
            " max_pooling2d_82 (MaxPooli  (None, 112, 112, 128)     0         \n",
            " ng2D)                                                           \n",
            "                                                                 \n",
            " conv2d_235 (Conv2D)         (None, 112, 112, 256)     295168    \n",
            "                                                                 \n",
            " conv2d_236 (Conv2D)         (None, 112, 112, 256)     590080    \n",
            "                                                                 \n",
            " conv2d_237 (Conv2D)         (None, 112, 112, 256)     590080    \n",
            "                                                                 \n",
            " max_pooling2d_83 (MaxPooli  (None, 56, 56, 256)       0         \n",
            " ng2D)                                                           \n",
            "                                                                 \n",
            " conv2d_238 (Conv2D)         (None, 56, 56, 512)       1180160   \n",
            "                                                                 \n",
            " conv2d_239 (Conv2D)         (None, 56, 56, 512)       2359808   \n",
            "                                                                 \n",
            " conv2d_240 (Conv2D)         (None, 56, 56, 512)       2359808   \n",
            "                                                                 \n",
            " max_pooling2d_84 (MaxPooli  (None, 28, 28, 512)       0         \n",
            " ng2D)                                                           \n",
            "                                                                 \n",
            " conv2d_241 (Conv2D)         (None, 28, 28, 512)       2359808   \n",
            "                                                                 \n",
            " conv2d_242 (Conv2D)         (None, 28, 28, 512)       2359808   \n",
            "                                                                 \n",
            " conv2d_243 (Conv2D)         (None, 28, 28, 512)       2359808   \n",
            "                                                                 \n",
            " max_pooling2d_85 (MaxPooli  (None, 14, 14, 512)       0         \n",
            " ng2D)                                                           \n",
            "                                                                 \n",
            " flatten_15 (Flatten)        (None, 100352)            0         \n",
            "                                                                 \n",
            " dense_45 (Dense)            (None, 2048)              205522944 \n",
            "                                                                 \n",
            " dense_46 (Dense)            (None, 2048)              4196352   \n",
            "                                                                 \n",
            " dense_47 (Dense)            (None, 1000)              2049000   \n",
            "                                                                 \n",
            "=================================================================\n",
            "Total params: 226657416 (864.63 MB)\n",
            "Trainable params: 226657416 (864.63 MB)\n",
            "Non-trainable params: 0 (0.00 Byte)\n",
            "_________________________________________________________________\n"
          ]
        }
      ],
      "source": [
        "# Assuming you have loaded the pre-trained weight\n",
        "inputs = Input((224, 224, 3))\n",
        "x = Conv2D(filters=32, kernel_size=(3, 3), padding=\"same\", activation='relu')(inputs)\n",
        "x = Conv2D(filters=32, kernel_size=(3, 3), padding=\"same\", activation='relu')(x)\n",
        "# x = MaxPooling2D()(x)\n",
        "x = Conv2D(filters=64, kernel_size=(3, 3), padding=\"same\", activation='relu')(x)\n",
        "x = Conv2D(filters=64, kernel_size=(3, 3), padding=\"same\", activation='relu')(x)\n",
        "# x = MaxPooling2D()(x)\n",
        "x = Conv2D(filters=128, kernel_size=(3, 3), padding=\"same\", activation='relu')(x)\n",
        "x = Conv2D(filters=128, kernel_size=(3, 3), padding=\"same\", activation='relu')(x)\n",
        "x = Conv2D(filters=128, kernel_size=(3, 3), padding=\"same\", activation='relu')(x)\n",
        "# x = MaxPooling2D()(x)\n",
        "x = Conv2D(filters=256, kernel_size=(3, 3), padding=\"same\", activation='relu')(x)\n",
        "x = Conv2D(filters=256, kernel_size=(3, 3), padding=\"same\", activation='relu')(x)\n",
        "x = Conv2D(filters=256, kernel_size=(3, 3), padding=\"same\", activation='relu')(x)\n",
        "# x = MaxPooling2D()(x)\n",
        "x = Conv2D(filters=512, kernel_size=(3, 3), padding=\"same\", activation='relu')(x)\n",
        "x = Conv2D(filters=512, kernel_size=(3, 3), padding=\"same\", activation='relu')(x)\n",
        "x = Conv2D(filters=512, kernel_size=(3, 3), padding=\"same\", activation='relu')(x)\n",
        "# x = MaxPooling2D()(x)\n",
        "x = Conv2D(filters=512, kernel_size=(3, 3), padding=\"same\", activation='relu')(x)\n",
        "x = Conv2D(filters=512, kernel_size=(3, 3), padding=\"same\", activation='relu')(x)\n",
        "x = Conv2D(filters=512, kernel_size=(3, 3), padding=\"same\", activation='relu')(x)\n",
        "# x = MaxPooling2D()(x)\n",
        "x = Flatten()(x)\n",
        "x = Dense(2048, activation='relu')(x)\n",
        "x = Dense(2048, activation='relu')(x)\n",
        "outputs = Dense(1000, activation=\"softmax\")(x)  # Changed to softmax for classification\n",
        "model_custom = Model(inputs, outputs, name=\"Built_VGG\")\n",
        "\n",
        "\n",
        "model_custom.summary()\n"
      ]
    },
    {
      "cell_type": "code",
      "execution_count": null,
      "metadata": {
        "colab": {
          "base_uri": "https://localhost:8080/"
        },
        "id": "71qN2h87zFxE",
        "outputId": "c3a685c8-088f-43be-e773-fb55d5570470"
      },
      "outputs": [
        {
          "name": "stdout",
          "output_type": "stream",
          "text": [
            "23\n"
          ]
        }
      ],
      "source": [
        "print(len(model_custom.layers))"
      ]
    },
    {
      "cell_type": "markdown",
      "metadata": {
        "id": "GlDgAcXUm1M2"
      },
      "source": [
        "## load weight into my new model"
      ]
    },
    {
      "cell_type": "code",
      "execution_count": null,
      "metadata": {
        "colab": {
          "base_uri": "https://localhost:8080/"
        },
        "id": "MioF8hVSmTlP",
        "outputId": "e449b4c7-0220-4d40-f14f-5a79a5a09b58"
      },
      "outputs": [
        {
          "name": "stdout",
          "output_type": "stream",
          "text": [
            "25\n",
            "copy the vgg16 model weight to the custom model \n",
            "layer 1 weight is not load to my model\n",
            "layer 2 weight is not load to my model\n",
            "layer 18 weight is not load to my model\n",
            "layer 19 weight is not load to my model\n",
            "layer 20 weight is not load to my model\n",
            "layer 21 weight is not load to my model\n",
            "layer 22 weight is not load to my model\n",
            "layer 23 weight is not load to my model\n",
            "layer 24 weight is not load to my model\n"
          ]
        }
      ],
      "source": [
        "vgg_weight=model_vgg16\n",
        "custome_vgg=model_same_vgg16\n",
        "\n",
        "custom_model=model_custom\n",
        "# print(len(vgg_weight.layers))\n",
        "# print(len(custome_vgg.layers))\n",
        "print(len(custom_model.layers))\n",
        "for i in range(len(custome_vgg.layers)):\n",
        "  custome_vgg.layers[i].set_weights(vgg_weight.layers[i].get_weights())\n",
        "\n",
        "\n",
        "print(\"copy the vgg16 model weight to the custom model \")\n",
        "for i in range(len(model_custom.layers)):\n",
        "  try:\n",
        "    custom_model.layers[i+4].set_weights(vgg_weight.layers[i+2].get_weights())\n",
        "  except:\n",
        "     print(f\"layer {i } weight is not load to my model\")\n",
        "\n",
        "# model_custom.layers[23].set_weights(vgg_weight.layers[21].get_weights())\n",
        "\n",
        "\n",
        "\n"
      ]
    },
    {
      "cell_type": "markdown",
      "metadata": {
        "id": "ydXdPvfHoUcA"
      },
      "source": [
        "# saw both of the model weight"
      ]
    },
    {
      "cell_type": "code",
      "execution_count": null,
      "metadata": {
        "id": "KGxwi2hnnSwK"
      },
      "outputs": [],
      "source": [
        "print(\"Weights of VGG16 model:\")\n",
        "k=0\n",
        "for i, layer in enumerate(model_vgg16.layers):\n",
        "    print(f\"Layer {i}: {layer.get_weights()}\")\n",
        "    k+=1\n",
        "    if k==2:\n",
        "      break\n",
        "\n",
        "k=0\n",
        "print(\"Weights of Custom VGG16 model:\")\n",
        "for i, layer in enumerate(model_same_vgg16.layers):\n",
        "    print(f\"Layer {i}: {layer.get_weights()}\")\n",
        "    k+=1\n",
        "    if k==2:\n",
        "      break\n",
        "\n",
        "print(\"Weights of Custom  model:\")\n",
        "for i, layer in enumerate(model_same_vgg16.layers):\n",
        "    print(f\"Layer {i}: {layer.get_weights()}\")\n",
        "    k+=1\n",
        "    if k==2:\n",
        "      break"
      ]
    },
    {
      "cell_type": "markdown",
      "metadata": {
        "id": "dQjuIOGlJHkG"
      },
      "source": [
        "## process data"
      ]
    },
    {
      "cell_type": "code",
      "execution_count": null,
      "metadata": {
        "id": "kY0PoxgBvqvl"
      },
      "outputs": [],
      "source": [
        "## load dataset\n",
        "\n"
      ]
    }
  ],
  "metadata": {
    "colab": {
      "provenance": []
    },
    "kernelspec": {
      "display_name": "Python 3",
      "name": "python3"
    },
    "language_info": {
      "codemirror_mode": {
        "name": "ipython",
        "version": 3
      },
      "file_extension": ".py",
      "mimetype": "text/x-python",
      "name": "python",
      "nbconvert_exporter": "python",
      "pygments_lexer": "ipython3",
      "version": "3.10.4"
    }
  },
  "nbformat": 4,
  "nbformat_minor": 0
}
