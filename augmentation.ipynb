{
 "cells": [
  {
   "cell_type": "code",
   "execution_count": 1,
   "metadata": {},
   "outputs": [],
   "source": [
    "import cv2\n",
    "from keras.preprocessing import image\n",
    "from keras.preprocessing.image import ImageDataGenerator"
   ]
  },
  {
   "cell_type": "code",
   "execution_count": 2,
   "metadata": {},
   "outputs": [],
   "source": [
    "# image=cv2.imread('testI.jpeg')\n",
    "# img=cv2.resize(image,(200,200))\n",
    "\n",
    "\n",
    "img=image.load_img('cutter1.jpeg', target_size=(200,200))\n",
    "img=image.img_to_array(img)"
   ]
  },
  {
   "cell_type": "code",
   "execution_count": 3,
   "metadata": {},
   "outputs": [],
   "source": [
    "datagen=ImageDataGenerator(\n",
    "    \n",
    "    rotation_range=30,\n",
    "    width_shift_range=0.2,\n",
    "    height_shift_range=0.2,\n",
    "    fill_mode='nearest',\n",
    "    shear_range=0.2,\n",
    "    zoom_range=0.2,\n",
    "    horizontal_flip=True,\n",
    "    \n",
    ")\n"
   ]
  },
  {
   "cell_type": "code",
   "execution_count": 4,
   "metadata": {},
   "outputs": [],
   "source": [
    "input_batch=img.reshape(1,200,200,3)"
   ]
  },
  {
   "cell_type": "code",
   "execution_count": 6,
   "metadata": {},
   "outputs": [],
   "source": [
    "i=0\n",
    "for output in datagen.flow(input_batch,batch_size=1,save_to_dir='gen'):\n",
    "    i+=1\n",
    "    if i==5:\n",
    "        break"
   ]
  },
  {
   "cell_type": "markdown",
   "metadata": {},
   "source": [
    "## use the below code for the augmentation of the whole folder"
   ]
  },
  {
   "cell_type": "code",
   "execution_count": 4,
   "metadata": {},
   "outputs": [],
   "source": [
    "folder_path = 'train/cats'\n",
    "import os\n",
    "# Create a directory for saving augmented images\n",
    "output_dir = 'gen'\n",
    "if not os.path.exists(output_dir):\n",
    "    os.makedirs(output_dir)\n",
    "\n",
    "# Iterate over each image in the folder\n",
    "for filename in os.listdir(folder_path):\n",
    "    if filename.endswith(('.jpeg', '.jpg', '.png')):  # Check if the file is an image\n",
    "        # Read the image\n",
    "        image_path = os.path.join(folder_path, filename)\n",
    "        img=image.load_img(image_path, target_size=(200,200))\n",
    "        img=image.img_to_array(img)\n",
    "        input_batch=img.reshape(1,200,200,3)\n",
    "        # print(input_batch.shape)\n",
    "        # Generate new images\n",
    "        i = 0\n",
    "        for output in datagen.flow(input_batch, batch_size=1, save_to_dir=output_dir, save_prefix=filename.split('.')[0], save_format='jpeg'):\n",
    "            i += 1\n",
    "            if i == 10:  # Generate 10 new images for each input image\n",
    "                break"
   ]
  },
  {
   "cell_type": "code",
   "execution_count": null,
   "metadata": {},
   "outputs": [],
   "source": []
  }
 ],
 "metadata": {
  "kernelspec": {
   "display_name": "Python 3",
   "language": "python",
   "name": "python3"
  },
  "language_info": {
   "codemirror_mode": {
    "name": "ipython",
    "version": 3
   },
   "file_extension": ".py",
   "mimetype": "text/x-python",
   "name": "python",
   "nbconvert_exporter": "python",
   "pygments_lexer": "ipython3",
   "version": "3.10.4"
  }
 },
 "nbformat": 4,
 "nbformat_minor": 2
}
