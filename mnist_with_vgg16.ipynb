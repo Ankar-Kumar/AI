{
  "cells": [
    {
      "cell_type": "code",
      "execution_count": null,
      "metadata": {
        "id": "a-05IAPV515g"
      },
      "outputs": [],
      "source": [
        "import numpy as np\n",
        "\n",
        "from tensorflow.keras.layers import Input, Dense, Activation , Conv2D , Flatten,MaxPooling2D\n",
        "from tensorflow.keras.models import Model\n",
        "from tensorflow.keras.utils import to_categorical\n",
        "from tensorflow.keras.applications import vgg16\n",
        "import keras\n",
        "import cv2\n",
        "from tensorflow.keras.datasets.mnist import load_data\n",
        "import matplotlib.pyplot as plt"
      ]
    },
    {
      "cell_type": "code",
      "execution_count": null,
      "metadata": {
        "colab": {
          "base_uri": "https://localhost:8080/"
        },
        "id": "iuW43BaM6B_y",
        "outputId": "93c7266a-3f67-4c1d-f779-f21f057547f4"
      },
      "outputs": [
        {
          "name": "stdout",
          "output_type": "stream",
          "text": [
            "Downloading data from https://storage.googleapis.com/tensorflow/tf-keras-datasets/mnist.npz\n",
            "11490434/11490434 [==============================] - 0s 0us/step\n"
          ]
        }
      ],
      "source": [
        "(x_train,y_train),(x_test,y_test) = load_data()"
      ]
    },
    {
      "cell_type": "code",
      "execution_count": null,
      "metadata": {
        "id": "qrBMyaln6G9h"
      },
      "outputs": [],
      "source": [
        "x_train = np.array([cv2.resize(image, (32, 32)) for image in x_train])\n",
        "x_test = np.array([cv2.resize(image, (32, 32)) for image in x_test])"
      ]
    },
    {
      "cell_type": "code",
      "execution_count": null,
      "metadata": {
        "colab": {
          "base_uri": "https://localhost:8080/"
        },
        "id": "fdR5F7IN6YLl",
        "outputId": "3353b63c-60f2-400e-8457-22e793310bf2"
      },
      "outputs": [
        {
          "name": "stdout",
          "output_type": "stream",
          "text": [
            "x_test shape : (60000, 32, 32)\n",
            "x_test shape : (10000, 32, 32)\n"
          ]
        }
      ],
      "source": [
        "print(f'x_test shape : {x_train.shape}')\n",
        "print(f'x_test shape : {x_test.shape}')"
      ]
    },
    {
      "cell_type": "markdown",
      "metadata": {
        "id": "pYGVE44K6s20"
      },
      "source": [
        "## expand the dimension"
      ]
    },
    {
      "cell_type": "code",
      "execution_count": null,
      "metadata": {
        "id": "bZ7z_bXg6bk8"
      },
      "outputs": [],
      "source": [
        "x_train = np.expand_dims(x_train, axis=-1)\n",
        "x_train= np.repeat(x_train, 3, axis=-1)\n",
        "\n",
        "x_test = np.expand_dims(x_test, axis=-1)\n",
        "x_test= np.repeat(x_test, 3, axis=-1)"
      ]
    },
    {
      "cell_type": "code",
      "execution_count": null,
      "metadata": {
        "colab": {
          "base_uri": "https://localhost:8080/"
        },
        "id": "z4HmICjG68cd",
        "outputId": "d96e9220-c33a-4fec-ae2a-597f47ed262f"
      },
      "outputs": [
        {
          "name": "stdout",
          "output_type": "stream",
          "text": [
            "x_test shape : (60000, 32, 32, 3)\n",
            "x_test shape : (10000, 32, 32, 3)\n"
          ]
        }
      ],
      "source": [
        "print(f'x_test shape : {x_train.shape}')\n",
        "print(f'x_test shape : {x_test.shape}')"
      ]
    },
    {
      "cell_type": "code",
      "execution_count": null,
      "metadata": {
        "id": "UpphKn1p7HSh"
      },
      "outputs": [],
      "source": [
        "# normalize the value between 0 and 1\n",
        "x_train = x_train/255\n",
        "x_test = x_test/255"
      ]
    },
    {
      "cell_type": "markdown",
      "metadata": {
        "id": "4Pjuxto_6-Q7"
      },
      "source": [
        "## one hot encoding the label values"
      ]
    },
    {
      "cell_type": "code",
      "execution_count": null,
      "metadata": {
        "id": "H1-Av9JL7Bdq"
      },
      "outputs": [],
      "source": [
        "from tensorflow.keras.utils import to_categorical\n",
        "\n",
        "y_train = to_categorical(y_train)\n",
        "y_test = to_categorical(y_test)"
      ]
    },
    {
      "cell_type": "markdown",
      "metadata": {
        "id": "zMUDS6x47Weg"
      },
      "source": [
        "## model vgg16 and last layer changes"
      ]
    },
    {
      "cell_type": "code",
      "execution_count": null,
      "metadata": {
        "colab": {
          "base_uri": "https://localhost:8080/"
        },
        "id": "vuuaNq1B7lfn",
        "outputId": "a602064b-0b59-4935-fc43-b065d9754e9d"
      },
      "outputs": [
        {
          "name": "stdout",
          "output_type": "stream",
          "text": [
            "Downloading data from https://storage.googleapis.com/tensorflow/keras-applications/vgg16/vgg16_weights_tf_dim_ordering_tf_kernels_notop.h5\n",
            "58889256/58889256 [==============================] - 0s 0us/step\n"
          ]
        }
      ],
      "source": [
        "base_model=vgg16.VGG16(\n",
        "    weights='imagenet',\n",
        "        input_shape=(32, 32, 3),\n",
        "        include_top=False\n",
        ")\n",
        "base_model.trainable = False"
      ]
    },
    {
      "cell_type": "code",
      "execution_count": null,
      "metadata": {
        "id": "RSbrit1Z8C6k"
      },
      "outputs": [],
      "source": [
        "inputs = keras.Input(shape=(32, 32, 3))\n",
        "\n",
        "x = base_model(inputs, training=False)\n",
        "x = keras.layers.GlobalAveragePooling2D()(x)\n",
        "x=Dense(64, activation='relu')(x)\n",
        "outputs = keras.layers.Dense(10, activation='softmax')(x)\n",
        "model = keras.Model(inputs, outputs)\n"
      ]
    },
    {
      "cell_type": "code",
      "execution_count": null,
      "metadata": {
        "colab": {
          "base_uri": "https://localhost:8080/"
        },
        "id": "4nawGys3-QYp",
        "outputId": "f587a74d-10c2-4aa3-9761-81e7f8fe3f7b"
      },
      "outputs": [
        {
          "name": "stdout",
          "output_type": "stream",
          "text": [
            "Model: \"model\"\n",
            "_________________________________________________________________\n",
            " Layer (type)                Output Shape              Param #   \n",
            "=================================================================\n",
            " input_2 (InputLayer)        [(None, 32, 32, 3)]       0         \n",
            "                                                                 \n",
            " vgg16 (Functional)          (None, 1, 1, 512)         14714688  \n",
            "                                                                 \n",
            " global_average_pooling2d (  (None, 512)               0         \n",
            " GlobalAveragePooling2D)                                         \n",
            "                                                                 \n",
            " dense (Dense)               (None, 64)                32832     \n",
            "                                                                 \n",
            " dense_1 (Dense)             (None, 10)                650       \n",
            "                                                                 \n",
            "=================================================================\n",
            "Total params: 14748170 (56.26 MB)\n",
            "Trainable params: 33482 (130.79 KB)\n",
            "Non-trainable params: 14714688 (56.13 MB)\n",
            "_________________________________________________________________\n"
          ]
        }
      ],
      "source": [
        "model.summary()"
      ]
    },
    {
      "cell_type": "code",
      "execution_count": null,
      "metadata": {
        "id": "t2TwZcbP8vpm"
      },
      "outputs": [],
      "source": [
        "# Compile the model\n",
        "model.compile(optimizer='adam', loss='categorical_crossentropy', metrics=['accuracy'])"
      ]
    },
    {
      "cell_type": "code",
      "execution_count": null,
      "metadata": {
        "colab": {
          "background_save": true,
          "base_uri": "https://localhost:8080/"
        },
        "id": "C1_mLtBg8491",
        "outputId": "1b86727e-d007-499d-f6bc-ce670ff54dfb"
      },
      "outputs": [
        {
          "name": "stdout",
          "output_type": "stream",
          "text": [
            "Epoch 1/10\n",
            "469/469 [==============================] - 847s 2s/step - loss: 0.6410 - accuracy: 0.8246 - val_loss: 0.2707 - val_accuracy: 0.9280\n",
            "Epoch 2/10\n",
            "469/469 [==============================] - 837s 2s/step - loss: 0.2293 - accuracy: 0.9340 - val_loss: 0.1755 - val_accuracy: 0.9497\n",
            "Epoch 3/10\n",
            "469/469 [==============================] - 793s 2s/step - loss: 0.1714 - accuracy: 0.9487 - val_loss: 0.1461 - val_accuracy: 0.9552\n",
            "Epoch 4/10\n",
            "469/469 [==============================] - 821s 2s/step - loss: 0.1459 - accuracy: 0.9550 - val_loss: 0.1349 - val_accuracy: 0.9566\n",
            "Epoch 5/10\n",
            "208/469 [============>.................] - ETA: 6:16 - loss: 0.1385 - accuracy: 0.9583"
          ]
        }
      ],
      "source": [
        "# Train the model\n",
        "model.fit(x_train, y_train, epochs=10, batch_size=128, validation_data=(x_test, y_test))"
      ]
    },
    {
      "cell_type": "markdown",
      "metadata": {
        "id": "2dm3sQw5A5cb"
      },
      "source": [
        "# Evaluate the model on the test data"
      ]
    },
    {
      "cell_type": "code",
      "execution_count": null,
      "metadata": {
        "colab": {
          "base_uri": "https://localhost:8080/"
        },
        "id": "2a7fodioA987",
        "outputId": "f410db58-5ea9-4ee8-b1f2-4d9486b9f8b4"
      },
      "outputs": [
        {
          "name": "stdout",
          "output_type": "stream",
          "text": [
            "313/313 - 3s - loss: 0.0894 - accuracy: 0.9710 - 3s/epoch - 10ms/step\n",
            "Test accuracy: 0.9710000157356262\n"
          ]
        }
      ],
      "source": [
        "test_loss, test_acc = model.evaluate(x_test, y_test, verbose=2)\n",
        "print('Test accuracy:', test_acc)"
      ]
    },
    {
      "cell_type": "markdown",
      "metadata": {
        "id": "SP7SQUc4NJyk"
      },
      "source": [
        "## all of my prediction value"
      ]
    },
    {
      "cell_type": "code",
      "execution_count": null,
      "metadata": {
        "colab": {
          "base_uri": "https://localhost:8080/"
        },
        "id": "er_YQa9lK3f2",
        "outputId": "88070657-741f-4cdd-bcd1-d75d4f4a7527"
      },
      "outputs": [
        {
          "name": "stdout",
          "output_type": "stream",
          "text": [
            "313/313 [==============================] - 2s 7ms/step\n"
          ]
        }
      ],
      "source": [
        "predicted=model.predict(x_test)"
      ]
    },
    {
      "cell_type": "code",
      "execution_count": null,
      "metadata": {
        "colab": {
          "base_uri": "https://localhost:8080/"
        },
        "id": "ivRfdrikLddm",
        "outputId": "013f0fd6-357f-419f-d598-fe2fc9302e01"
      },
      "outputs": [
        {
          "name": "stdout",
          "output_type": "stream",
          "text": [
            "[7, 2, 1, 0, 4, 1, 4, 9, 5, 9]\n"
          ]
        }
      ],
      "source": [
        "labels = []\n",
        "\n",
        "for prediction in predicted:\n",
        "    label = np.argmax(prediction)  # Get the predicted label for the current image\n",
        "    labels.append(label)\n",
        "\n",
        "print(labels[:10])"
      ]
    },
    {
      "cell_type": "code",
      "execution_count": null,
      "metadata": {
        "colab": {
          "base_uri": "https://localhost:8080/",
          "height": 853
        },
        "id": "Ai9BmohsAtc4",
        "outputId": "8f9124ca-656e-4dcb-9af5-50523676f072"
      },
      "outputs": [
        {
          "data": {
            "image/png": "[encoded data removed]",
            "text/plain": [
              "<Figure size 1200x1000 with 9 Axes>"
            ]
          },
          "metadata": {},
          "output_type": "display_data"
        }
      ],
      "source": [
        "plt.figure(figsize=(12,10))\n",
        "for i in range(1,10):\n",
        "    plt.subplot(3,3,i)\n",
        "    plt.imshow(x_test[i])\n",
        "    plt.title(labels[i])\n",
        "plt.show()"
      ]
    },
    {
      "cell_type": "code",
      "execution_count": null,
      "metadata": {
        "id": "KYExb6vW87Ka"
      },
      "outputs": [],
      "source": []
    }
  ],
  "metadata": {
    "colab": {
      "provenance": []
    },
    "kernelspec": {
      "display_name": "Python 3",
      "name": "python3"
    },
    "language_info": {
      "name": "python"
    }
  },
  "nbformat": 4,
  "nbformat_minor": 0
}