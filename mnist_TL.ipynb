{
  "cells": [
    {
      "cell_type": "code",
      "execution_count": 1,
      "metadata": {
        "id": "dZ2yqegy5uiC"
      },
      "outputs": [],
      "source": [
        "import tensorflow as tf\n",
        "import numpy as np\n",
        "from tensorflow.keras.datasets import mnist\n",
        "from tensorflow.keras.utils import to_categorical\n",
        "from tensorflow.keras.models import Sequential\n",
        "from tensorflow.keras.layers import Conv2D, MaxPooling2D, Dense, Flatten, Dropout"
      ]
    },
    {
      "cell_type": "code",
      "execution_count": 2,
      "metadata": {
        "colab": {
          "base_uri": "https://localhost:8080/"
        },
        "id": "JOiacjVA_G9i",
        "outputId": "4a09a832-ba32-432b-e979-b406f1622b02"
      },
      "outputs": [
        {
          "data": {
            "text/plain": [
              "(60000, 28, 28)"
            ]
          },
          "execution_count": 2,
          "metadata": {},
          "output_type": "execute_result"
        }
      ],
      "source": [
        "# Load the MNIST dataset\n",
        "(x_train, y_train), (x_test, y_test) = mnist.load_data()\n",
        "x_train.shape"
      ]
    },
    {
      "cell_type": "code",
      "execution_count": null,
      "metadata": {
        "colab": {
          "base_uri": "https://localhost:8080/"
        },
        "id": "M7vfg7op_MYj",
        "outputId": "c72bfd1d-6e1c-40d2-95ee-237b07732734"
      },
      "outputs": [
        {
          "data": {
            "text/plain": [
              "(60000, 28, 28)"
            ]
          },
          "execution_count": 27,
          "metadata": {},
          "output_type": "execute_result"
        }
      ],
      "source": [
        "# Reshape the data into 4D arrays for input to CNN\n",
        "x_train = x_train.reshape((x_train.shape[0], 28, 28))\n",
        "x_test = x_test.reshape((x_test.shape[0], 28, 28))\n",
        "x_train.shape"
      ]
    },
    {
      "cell_type": "code",
      "execution_count": null,
      "metadata": {
        "id": "H70o-a7c_5Yv"
      },
      "outputs": [],
      "source": [
        "# Normalize the pixel values to be between 0 and 1\n",
        "x_train = x_train.astype('float32') / 255\n",
        "x_test = x_test.astype('float32') / 255"
      ]
    },
    {
      "cell_type": "code",
      "execution_count": null,
      "metadata": {
        "colab": {
          "base_uri": "https://localhost:8080/"
        },
        "id": "c97JJSPFd9_g",
        "outputId": "135861b4-d619-473b-b488-4ef76d74243e"
      },
      "outputs": [
        {
          "data": {
            "text/plain": [
              "(60000, 28, 28, 3)"
            ]
          },
          "execution_count": 29,
          "metadata": {},
          "output_type": "execute_result"
        }
      ],
      "source": [
        "# Convert Data to 3 Channel\n",
        "x_train=np.stack((x_train,)*3, axis=-1)\n",
        "x_test=np.stack((x_test,)*3, axis=-1)\n",
        "x_train.shape"
      ]
    },
    {
      "cell_type": "code",
      "execution_count": null,
      "metadata": {
        "id": "O3kb9VCk_7b2"
      },
      "outputs": [],
      "source": [
        "# Convert the labels to categorical one-hot encoding\n",
        "y_train = to_categorical(y_train)\n",
        "y_test = to_categorical(y_test)"
      ]
    },
    {
      "cell_type": "code",
      "execution_count": null,
      "metadata": {
        "id": "BFA0PB8Wafbs"
      },
      "outputs": [],
      "source": [
        "# TL Model\n",
        "from tensorflow.keras.applications.resnet50 import ResNet50"
      ]
    },
    {
      "cell_type": "code",
      "execution_count": null,
      "metadata": {
        "id": "vVDU5gYTa65L"
      },
      "outputs": [],
      "source": [
        "model=Sequential()\n",
        "model.add(ResNet50(include_top=False, pooling='avg', weights='imagenet'))\n",
        "model.add(Dense(512, activation='relu'))\n",
        "model.add(Dense(10, activation='softmax'))\n",
        "# Set Resnet Layers not trainable\n",
        "model.layers[0].trainable=False\n",
        "model.summary()"
      ]
    },
    {
      "cell_type": "code",
      "execution_count": null,
      "metadata": {
        "id": "NnkXVGUXAAGb"
      },
      "outputs": [],
      "source": [
        "# Compile the model\n",
        "model.compile(optimizer='adam', loss='categorical_crossentropy', metrics=['accuracy'])"
      ]
    },
    {
      "cell_type": "code",
      "execution_count": null,
      "metadata": {
        "colab": {
          "base_uri": "https://localhost:8080/"
        },
        "id": "BKw5WYEzADtS",
        "outputId": "fb785e98-48b7-4690-a047-c752ef184ddc"
      },
      "outputs": [
        {
          "name": "stdout",
          "output_type": "stream",
          "text": [
            "Epoch 1/10\n",
            "469/469 [==============================] - 238s 501ms/step - loss: 0.6739 - accuracy: 0.7983 - val_loss: 0.3763 - val_accuracy: 0.8884\n",
            "Epoch 2/10\n",
            "469/469 [==============================] - 235s 501ms/step - loss: 0.3588 - accuracy: 0.8886 - val_loss: 0.2833 - val_accuracy: 0.9132\n",
            "Epoch 3/10\n",
            "469/469 [==============================] - 234s 499ms/step - loss: 0.2998 - accuracy: 0.9055 - val_loss: 0.2880 - val_accuracy: 0.9087\n",
            "Epoch 4/10\n",
            "469/469 [==============================] - 221s 471ms/step - loss: 0.2644 - accuracy: 0.9163 - val_loss: 0.2335 - val_accuracy: 0.9263\n",
            "Epoch 5/10\n",
            "469/469 [==============================] - 232s 495ms/step - loss: 0.2383 - accuracy: 0.9237 - val_loss: 0.2276 - val_accuracy: 0.9283\n",
            "Epoch 6/10\n",
            "469/469 [==============================] - 221s 472ms/step - loss: 0.2271 - accuracy: 0.9271 - val_loss: 0.2036 - val_accuracy: 0.9337\n",
            "Epoch 7/10\n",
            "469/469 [==============================] - 231s 493ms/step - loss: 0.2155 - accuracy: 0.9309 - val_loss: 0.2176 - val_accuracy: 0.9301\n",
            "Epoch 8/10\n",
            "469/469 [==============================] - 232s 495ms/step - loss: 0.2032 - accuracy: 0.9345 - val_loss: 0.1867 - val_accuracy: 0.9416\n",
            "Epoch 9/10\n",
            "469/469 [==============================] - 232s 496ms/step - loss: 0.1920 - accuracy: 0.9386 - val_loss: 0.1771 - val_accuracy: 0.9454\n",
            "Epoch 10/10\n",
            "469/469 [==============================] - 220s 470ms/step - loss: 0.1808 - accuracy: 0.9412 - val_loss: 0.1651 - val_accuracy: 0.9477\n"
          ]
        },
        {
          "data": {
            "text/plain": [
              "<keras.callbacks.History at 0x7f0600b91340>"
            ]
          },
          "execution_count": 37,
          "metadata": {},
          "output_type": "execute_result"
        }
      ],
      "source": [
        "# Train the model\n",
        "model.fit(x_train, y_train, epochs=10, batch_size=128, validation_data=(x_test, y_test))"
      ]
    },
    {
      "cell_type": "code",
      "execution_count": null,
      "metadata": {
        "colab": {
          "base_uri": "https://localhost:8080/"
        },
        "id": "a13nH8RHAG7_",
        "outputId": "2b5ed93a-4589-4890-80ef-ba05fd3c4e1f"
      },
      "outputs": [
        {
          "name": "stdout",
          "output_type": "stream",
          "text": [
            "313/313 - 36s - loss: 0.1651 - accuracy: 0.9477 - 36s/epoch - 114ms/step\n",
            "Test accuracy: 0.947700023651123\n"
          ]
        }
      ],
      "source": [
        "# Evaluate the model on the test data\n",
        "test_loss, test_acc = model.evaluate(x_test, y_test, verbose=2)\n",
        "print('Test accuracy:', test_acc)"
      ]
    }
  ],
  "metadata": {
    "colab": {
      "provenance": []
    },
    "kernelspec": {
      "display_name": "Python 3",
      "name": "python3"
    },
    "language_info": {
      "codemirror_mode": {
        "name": "ipython",
        "version": 3
      },
      "file_extension": ".py",
      "mimetype": "text/x-python",
      "name": "python",
      "nbconvert_exporter": "python",
      "pygments_lexer": "ipython3",
      "version": "3.10.4"
    }
  },
  "nbformat": 4,
  "nbformat_minor": 0
}
